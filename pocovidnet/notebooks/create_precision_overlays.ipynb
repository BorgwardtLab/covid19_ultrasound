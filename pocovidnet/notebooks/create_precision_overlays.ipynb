{
 "cells": [
  {
   "cell_type": "markdown",
   "metadata": {},
   "source": [
    "This notebook creates the precision overlays with a tachomoter-style gauge. "
   ]
  },
  {
   "cell_type": "code",
   "execution_count": 15,
   "metadata": {},
   "outputs": [],
   "source": [
    "import plotly.graph_objects as go\n",
    "from PIL import Image, ImageDraw, ImageFont\n",
    "import numpy as np\n",
    "#import matplotlib.pyplot as plt\n",
    "from matplotlib import cm\n",
    "\n",
    "# if we're in the notebooks directory, go up by one\n",
    "import os \n",
    "if os.getcwd().find('notebooks') != -1:\n",
    "    os.chdir('..')\n",
    "\n",
    "# create color map\n",
    "cmap = cm.get_cmap('RdYlGn', 12)\n",
    "\n",
    "# create overlay for every %-value\n",
    "for precision in range(101):\n",
    "    \n",
    "    # open a new canvas using pillow. Note hardcoded dimensions, also in cam.py\n",
    "    base = Image.new('RGBA', (1000,1000), (0,0,0,255))\n",
    "    \n",
    "    precision /=100\n",
    "    value = np.round(precision*100, 0).astype(int)\n",
    "    \n",
    "    # create tachomter-style gauge\n",
    "    color = f'rgb{cmap(precision**2)[:3]}'\n",
    "    fig = go.Figure(go.Indicator(\n",
    "\n",
    "        mode = \"gauge+number\",\n",
    "        value = value,\n",
    "        domain = {'x': [0, 1], 'y': [0, 1]},\n",
    "        title = {'text': \"Precision (%)\", 'font': {'size': 40}},\n",
    "        gauge = {\n",
    "            'shape': 'angular',\n",
    "            'axis': {'range': [None, 100], 'tickwidth': 5, 'tickcolor': \"white\"},\n",
    "            'bar': {'color': color, \n",
    "                    'thickness': 1},\n",
    "            'bgcolor': \"black\",\n",
    "            'borderwidth': 4,\n",
    "            'bordercolor': \"white\",\n",
    "            }))\n",
    "\n",
    "    fig.update_layout(paper_bgcolor = \"black\", \n",
    "                      font = {'color': 'white', 'family': \"Arial\", 'size':40})\n",
    "                      #width = 1500, height = 1000,\n",
    "                      #margin=dict(l=20, r=20, t=20, b=20))\n",
    "\n",
    "    # save gauge\n",
    "    file_name = f\"precision_overlays/overlay_{str(value).zfill(3)}.png\"\n",
    "    fig.write_image(file_name)\n",
    "    \n",
    "    # reopen gauge using pillow\n",
    "    gauge = Image.open(file_name)\n",
    "    gauge = gauge.resize((350,250))\n",
    "    \n",
    "    # paste onto (1000,1000) canvas and save\n",
    "    base.paste(gauge)   \n",
    "    base.save(file_name)"
   ]
  }
 ],
 "metadata": {
  "kernelspec": {
   "display_name": "Python 3",
   "language": "python",
   "name": "python3"
  },
  "language_info": {
   "codemirror_mode": {
    "name": "ipython",
    "version": 3
   },
   "file_extension": ".py",
   "mimetype": "text/x-python",
   "name": "python",
   "nbconvert_exporter": "python",
   "pygments_lexer": "ipython3",
   "version": "3.6.10"
  },
  "varInspector": {
   "cols": {
    "lenName": 16,
    "lenType": 16,
    "lenVar": 40
   },
   "kernels_config": {
    "python": {
     "delete_cmd_postfix": "",
     "delete_cmd_prefix": "del ",
     "library": "var_list.py",
     "varRefreshCmd": "print(var_dic_list())"
    },
    "r": {
     "delete_cmd_postfix": ") ",
     "delete_cmd_prefix": "rm(",
     "library": "var_list.r",
     "varRefreshCmd": "cat(var_dic_list()) "
    }
   },
   "types_to_exclude": [
    "module",
    "function",
    "builtin_function_or_method",
    "instance",
    "_Feature"
   ],
   "window_display": false
  }
 },
 "nbformat": 4,
 "nbformat_minor": 4
}
