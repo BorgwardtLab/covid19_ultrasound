{
 "cells": [
  {
   "cell_type": "code",
   "execution_count": null,
   "metadata": {},
   "outputs": [],
   "source": [
    "import numpy as np\n",
    "import pandas as pd\n",
    "import seaborn as sns\n",
    "import matplotlib.pyplot as plt"
   ]
  },
  {
   "cell_type": "code",
   "execution_count": null,
   "metadata": {},
   "outputs": [],
   "source": [
    "data = pd.read_csv(\"../../data/dataset_metadata.csv\")"
   ]
  },
  {
   "cell_type": "code",
   "execution_count": null,
   "metadata": {},
   "outputs": [],
   "source": [
    "def filter_fn(fn):\n",
    "    if fn.lower() in [\"reg\", \"cov\", \"pne\", \"vir\"]:\n",
    "        return fn.lower()\n",
    "    else:\n",
    "        print(fn)\n",
    "        return \"reg\" # all wrong ones are reg write now\n",
    "label = [filter_fn(fn[:3]) for fn in data[\"Filename\"].values] #  if fn[:3] in [\"Reg\", \"reg\", \"Cov\", \"cov\", \"pne\", \"Pne\"]]"
   ]
  },
  {
   "cell_type": "code",
   "execution_count": null,
   "metadata": {},
   "outputs": [],
   "source": [
    "data.columns"
   ]
  },
  {
   "cell_type": "code",
   "execution_count": null,
   "metadata": {
    "scrolled": true
   },
   "outputs": [],
   "source": [
    "# make label column\n",
    "lab_dict = {\"reg\":\"regular\", \"cov\":\"COVID-19\", \"pne\":\"Bacterial pneumonia\", \"vir\":\"Viral pneumonia\"}\n",
    "for l in label:\n",
    "    print(lab_dict[l])"
   ]
  },
  {
   "cell_type": "code",
   "execution_count": null,
   "metadata": {
    "scrolled": true
   },
   "outputs": [],
   "source": [
    "# effusion, consolidated, blines, alines, irregular = [], [], [], []\n",
    "found_pattern = np.array([\"(sub)pleural effusion\", \"consolidation\", \"B-line(s)\", \"A-lines\", \"irregular pleural line\", \"air bronchogram\", \"normal\"])\n",
    "pathologies = np.zeros((len(data), 7))\n",
    "pat_dict = [[\"effusion\"], [\"consol\"], [\"b line\", \"b-line\", \"b - line\"], [\"a line\", \"a-line\", \"a - line\"], \n",
    "            [\"pleural irregular\", \"irregular pleural\", \"pleural thickening\"], [\"bronchogram\"],\n",
    "            [\"normal\", \"healthy\"]]\n",
    "\n",
    "for i, row in data.iterrows():\n",
    "    if \"artifacts\" in row[\"Current location\"] or \"uncertain\" in row[\"Current location\"] or  \"not\" in row[\"Current location\"]:\n",
    "        print(\"ueberspringe\", row[\"Filename\"])\n",
    "        continue\n",
    "    all_comments = (str(row['Comments first medical doctor (MD1)']) + \" \" +  str(row['MD2']) + \" \" +  str(row['Comments from web site'])).lower()\n",
    "    # Effusion?\n",
    "    for pat_ind in range(7):\n",
    "        for pat in pat_dict[pat_ind]:\n",
    "            if (not \"no \"+pat in all_comments) and (not \"not \"+ pat in all_comments) and pat in all_comments:\n",
    "                pathologies[i,pat_ind] = 1\n",
    "    # print(str(row['Comments first medical doctor (MD1)'])+ \" \" + str(row['MD2']))\n",
    "    one_pathologies = np.where(pathologies[i]>0)[0]\n",
    "    # print(found_pattern[one_pathologies])\n",
    "    # print()\n",
    "    if (row[\"Filename\"]).lower()[:3]==\"reg\" and (\"effusion\" in all_comments or \"consol\" in all_comments or \"pleural irregular\" in all_comments):\n",
    "        print(row[\"Filename\"].lower())\n",
    "    "
   ]
  },
  {
   "cell_type": "code",
   "execution_count": null,
   "metadata": {},
   "outputs": [],
   "source": [
    "mddf = pd.DataFrame(pathologies.astype(int), columns = found_pattern)"
   ]
  },
  {
   "cell_type": "code",
   "execution_count": null,
   "metadata": {},
   "outputs": [],
   "source": [
    "mddf.to_csv(\"../../data/pathologies.csv\")"
   ]
  },
  {
   "cell_type": "code",
   "execution_count": null,
   "metadata": {},
   "outputs": [],
   "source": [
    "mddf[\"label\"] = label"
   ]
  },
  {
   "cell_type": "code",
   "execution_count": null,
   "metadata": {},
   "outputs": [],
   "source": [
    "overview = mddf.groupby(\"label\").aggregate(\"mean\")"
   ]
  },
  {
   "cell_type": "code",
   "execution_count": null,
   "metadata": {},
   "outputs": [],
   "source": [
    "overview.index[1]"
   ]
  },
  {
   "cell_type": "markdown",
   "metadata": {
    "scrolled": false
   },
   "source": [
    "## Main plot"
   ]
  },
  {
   "cell_type": "code",
   "execution_count": null,
   "metadata": {},
   "outputs": [],
   "source": [
    "  # the label locations\n",
    "width = 0.7  # the width of the bars\n",
    "num = len(found_pattern)\n",
    "x = np.arange(4)\n",
    "\n",
    "uni, counts = np.unique(mddf[\"label\"].values, return_counts=True)\n",
    "xtick_labs = [\"COVID-19\", \"Bacterial pneu.\", \"Healthy\", \"Viral pneu.\"]\n",
    "new_xtick_labs = []\n",
    "for i in range(4):\n",
    "    new_xtick_labs.append(xtick_labs[i]+\" (n=\"+str(int(counts[i]))+\")\")\n",
    "    \n",
    "fig, ax = plt.subplots(figsize=(15,8))\n",
    "\n",
    "rects = list()\n",
    "for i in range(num):\n",
    "    rect = ax.bar(x - width/2 + (i+1)*width/num, overview[found_pattern[i]].values, width/num, label=found_pattern[i])\n",
    "    rects.append(rect)\n",
    "# rects2 = ax.bar(x + width/4, women_means, width, label='Women')\n",
    "\n",
    "# Add some text for labels, title and custom x-axis tick labels, etc.\n",
    "ax.set_ylabel('Percentage of pathology occurence', fontsize=20)\n",
    "ax.set_xticks(x)\n",
    "ax.set_xticklabels(new_xtick_labs, fontsize=20)\n",
    "ax.legend(fontsize=20, loc=\"upper center\", ncol=4)\n",
    "ax.set_ylim(0,1)\n",
    "ax.set_yticklabels(range(0,100, 20),fontsize=18)\n",
    "\n",
    "\n",
    "fig.tight_layout()\n",
    "plt.savefig(\"../../pocovidnet/results_oct/plots/pathologies.pdf\")\n",
    "plt.show()"
   ]
  },
  {
   "cell_type": "markdown",
   "metadata": {},
   "source": [
    "### Plot the other way round"
   ]
  },
  {
   "cell_type": "code",
   "execution_count": null,
   "metadata": {},
   "outputs": [],
   "source": [
    "x = np.arange(len(overview.columns))  # the label locations\n",
    "width = 0.35  # the width of the bars\n",
    "\n",
    "fig, ax = plt.subplots(figsize=(10,8))\n",
    "\n",
    "rects = list()\n",
    "for i in range(4):\n",
    "    rect = ax.bar(x - width/2 + i*width/4, overview.iloc[i].values, width/4, label=overview.index[i])\n",
    "    rects.append(rect)\n",
    "# rects2 = ax.bar(x + width/4, women_means, width, label='Women')\n",
    "\n",
    "# Add some text for labels, title and custom x-axis tick labels, etc.\n",
    "ax.set_ylabel('Occurences in comments of medical experts', fontsize=20)\n",
    "ax.set_xticks(x)\n",
    "ax.set_xticklabels(found_pattern, fontsize=20)\n",
    "ax.legend(fontsize=20)\n",
    "ax.set_ylim(0,0.8)\n",
    "\n",
    "fig.tight_layout()\n",
    "\n",
    "plt.show()"
   ]
  },
  {
   "cell_type": "markdown",
   "metadata": {},
   "source": [
    "## Further analysis"
   ]
  },
  {
   "cell_type": "code",
   "execution_count": null,
   "metadata": {},
   "outputs": [],
   "source": [
    "data.columns"
   ]
  },
  {
   "cell_type": "code",
   "execution_count": null,
   "metadata": {},
   "outputs": [],
   "source": [
    "data_vids = data[data[\"Type\"]==\"video\"]\n",
    "print(\"Average number of frames and std\")\n",
    "np.nanmean(data_vids[\"Length (frames)\"]), np.nanstd(data_vids[\"Length (frames)\"])"
   ]
  },
  {
   "cell_type": "code",
   "execution_count": null,
   "metadata": {},
   "outputs": [],
   "source": [
    "def not_nan(data):\n",
    "    return np.array([d for d in data if not pd.isnull(d) and d!=\"n/A\" and d!=\"nd\"])\n",
    "        "
   ]
  },
  {
   "cell_type": "code",
   "execution_count": null,
   "metadata": {},
   "outputs": [],
   "source": [
    "notnan_ages = not_nan(data[\"Age\"]).astype(int) # data[np.logical_and(~pd.isnull(data[\"Age\"]), data[\"Age\"]!=\"n/A\")]\n",
    "print(\"Age filled in for \", len(notnan_ages)/len(data), \"% (len data:\", len(data))\n",
    "sns.distplot(notnan_ages)\n",
    "plt.xlabel(\"Patient age\", fontsize=15)\n",
    "plt.yticks([])\n",
    "plt.savefig(\"../results_oct/plots/age_dist.pdf\")"
   ]
  },
  {
   "cell_type": "code",
   "execution_count": null,
   "metadata": {},
   "outputs": [],
   "source": [
    "np.median(notnan_ages), np.mean(notnan_ages), np.std(notnan_ages)"
   ]
  },
  {
   "cell_type": "code",
   "execution_count": null,
   "metadata": {},
   "outputs": [],
   "source": [
    "gender = not_nan(data[\"Gender\"])\n",
    "print(\"Gender filled in for\", round(len(gender)/ len(data), 2), \"%\")\n",
    "print(np.unique(gender, return_counts=True))\n",
    "print(np.sum(gender==\"m\") / len(gender))"
   ]
  },
  {
   "cell_type": "markdown",
   "metadata": {},
   "source": [
    "## Symptoms"
   ]
  },
  {
   "cell_type": "code",
   "execution_count": null,
   "metadata": {},
   "outputs": [],
   "source": [
    "symptom_cols = ['Current location', 'Fever','Cough', 'Respiratory problems', 'Headache', 'Fatigue', 'Asymptomatic']\n",
    "# 'Sore throat', , 'Loss of smell/taste',\n",
    "symptoms = data[symptom_cols]\n",
    "# convert labels to int\n",
    "labs_uni = list(np.unique(label))\n",
    "label_int = [labs_uni.index(l) for l in label]\n",
    "symptoms[\"label\"] = label_int\n",
    "symptoms = symptoms.dropna()\n",
    "# drop all that have no symptom at all\n",
    "symptoms = symptoms[symptoms[\"Fever\"]!=\"n/A\"]\n",
    "symptoms = symptoms[~symptoms[\"Current location\"].str.contains(\"not\")]\n",
    "symptoms = symptoms[~symptoms[\"Current location\"].str.contains(\"artifacts\")]\n",
    "# print(list(symptoms[\"Current location\"]))\n",
    "symptoms = symptoms.drop(columns=[\"Current location\"])\n",
    "symptom_cols = symptom_cols[1:]\n",
    "for col in symptom_cols:\n",
    "    symptoms.loc[symptoms[col]==\"n/A\", col] = 0\n",
    "symptoms = symptoms.astype(int)\n",
    "# symptoms = symptoms[cols].apply(pd.to_numeric)\n",
    "# symptoms = symptoms.where(symptoms == \"n/A\", \"0\")\n"
   ]
  },
  {
   "cell_type": "code",
   "execution_count": null,
   "metadata": {},
   "outputs": [],
   "source": [
    "len(symptoms) / len(data)"
   ]
  },
  {
   "cell_type": "code",
   "execution_count": null,
   "metadata": {},
   "outputs": [],
   "source": [
    "symptoms_grouped = symptoms.groupby(\"label\").aggregate(\"mean\")\n",
    "\n",
    "uni, counts = np.unique(symptoms[\"label\"].values, return_counts=True)\n",
    "xtick_labs = [\"Covid-19\", \"Bacterial pneumonia\", \"Healthy lung\", \"Viral pneumonia\"]\n",
    "new_xtick_labs = []\n",
    "for i in range(4):\n",
    "    new_xtick_labs.append(xtick_labs[i]+\" (\"+str(int(counts[i]))+\")\")\n",
    "\n",
    "# the label locations\n",
    "width = 0.7  # the width of the bars\n",
    "num = len(symptom_cols)\n",
    "x = np.arange(4)\n",
    "\n",
    "fig, ax = plt.subplots(figsize=(15,8))\n",
    "\n",
    "rects = list()\n",
    "for i in range(num):\n",
    "    rect = ax.bar(x - width/2 + (i+1)*width/num, symptoms_grouped[symptom_cols[i]].values, width/num, label=symptom_cols[i])\n",
    "    rects.append(rect)\n",
    "# rects2 = ax.bar(x + width/4, women_means, width, label='Women')\n",
    "\n",
    "# Add some text for labels, title and custom x-axis tick labels, etc.\n",
    "ax.set_ylabel('Percentage of reported symptoms', fontsize=20)\n",
    "ax.set_xticks(x)\n",
    "ax.set_xticklabels(new_xtick_labs, fontsize=20)\n",
    "ax.legend(fontsize=20, loc=\"upper left\", ncol=3)\n",
    "ax.set_yticklabels(range(0,100, 20),fontsize=18)\n",
    "ax.set_ylim(0,1)\n",
    "\n",
    "\n",
    "fig.tight_layout()\n",
    "plt.savefig(\"../../pocovidnet/results_oct/plots/symptoms.pdf\")\n",
    "plt.show()"
   ]
  },
  {
   "cell_type": "code",
   "execution_count": null,
   "metadata": {},
   "outputs": [],
   "source": [
    "data_fever = (data[\"Fever\"]==\"1\").astype(int) * (np.array(label_int)==2).astype(int) > 0\n",
    "print(np.any(data_fever))\n",
    "data[data_fever]\n",
    "# np.logical_and(np.array(label_int)==2,  data[\"Respiratory problems\"]==1)"
   ]
  },
  {
   "cell_type": "markdown",
   "metadata": {},
   "source": [
    "### Avi's data:"
   ]
  },
  {
   "cell_type": "code",
   "execution_count": null,
   "metadata": {},
   "outputs": [],
   "source": [
    "data.columns"
   ]
  },
  {
   "cell_type": "code",
   "execution_count": null,
   "metadata": {},
   "outputs": [],
   "source": [
    "avi = data[np.logical_or(data[\"Filename\"].str.contains(\"Avi\"), data[\"Filename\"].str.contains(\"orthumbria\"))]\n",
    "avi_gender = avi[~pd.isnull(avi[\"Gender\"])]\n",
    "np.unique(avi_gender[\"Gender\"], return_counts= True)"
   ]
  },
  {
   "cell_type": "markdown",
   "metadata": {},
   "source": [
    "## Debug ICLUS stuff"
   ]
  },
  {
   "cell_type": "code",
   "execution_count": null,
   "metadata": {},
   "outputs": [],
   "source": [
    "with open(\"../../data/ICLUS/ICLUS_cropping.json\", \"r\") as infile:\n",
    "    frame_cut = json.load(infile)\n",
    "best_crop_dir = \"../results_oct/iclus/best_of_both_crops/\""
   ]
  },
  {
   "cell_type": "code",
   "execution_count": null,
   "metadata": {},
   "outputs": [],
   "source": [
    "arr = np.random.rand(20)\n",
    "print(arr)\n",
    "np.quantile(arr, 0.9)"
   ]
  },
  {
   "cell_type": "code",
   "execution_count": null,
   "metadata": {},
   "outputs": [],
   "source": []
  }
 ],
 "metadata": {
  "kernelspec": {
   "display_name": "Python 3",
   "language": "python",
   "name": "python3"
  },
  "language_info": {
   "codemirror_mode": {
    "name": "ipython",
    "version": 3
   },
   "file_extension": ".py",
   "mimetype": "text/x-python",
   "name": "python",
   "nbconvert_exporter": "python",
   "pygments_lexer": "ipython3",
   "version": "3.6.10"
  }
 },
 "nbformat": 4,
 "nbformat_minor": 4
}
